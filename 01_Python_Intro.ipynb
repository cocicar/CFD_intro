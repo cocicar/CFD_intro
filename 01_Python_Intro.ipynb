{
 "cells": [
  {
   "cell_type": "markdown",
   "id": "41f9f9ae-2924-48f4-a87a-7f82214b692e",
   "metadata": {},
   "source": [
    "# **Програмски језик Пајтон (енг. Python) - кратак курс**\n",
    "Име програмског језика води директно порекло од \"Летећег циркуса Монтија Пајтона\" (енг. Monty Python's Flying Circus), чувене британске хумористичке емисије из 70их и 80их година двадесетог века. Основна идеја од самог развоја програмског језика је била да његово коришћење буде забавно и једноставно, те отуда и његово име, које је предложио један од његових главних креатора, холандски програмер Гидо ван Росум (Guido van Rossum). Пајтон је динамички програмски језик - интерпретарор или интерпретер (енг. interpreter), подржава и структурално и објектно оријентисано програмирање, има доста специјализованих библиотека и оквиру њих одговарајућих модула намењених за примену у многобројним областима математике, физике, хемије, биофизике, програмирања, и много тога другог. \n",
    "\n",
    "<h2><b>Типови података</b></h2>\n",
    "<h3><b>Oсновни типови података</b></h3>\n",
    "Као и у великој већини програмских језика основни типови података су:\n",
    "<ul>\n",
    "    <li>цели бројеви, целобројни тип - интиџер (енг. intiger)</li> \n",
    "    <li>реални бројеви, тј. реални бројеви у покретном зарезу - флоут (енг. float)</li>\n",
    "    <li>стрингови (енг. string).</li>\n",
    "</ul>\n",
    "Како је у питању динамички програмски језик, декларација промењивих (нпр. \"int a\") се не врши, већ је тип податка одређен  "
   ]
  },
  {
   "cell_type": "code",
   "execution_count": null,
   "id": "b76adfec-b85a-4f3e-8557-1165a246b86e",
   "metadata": {},
   "outputs": [],
   "source": [
    "# Komentar u programskom jeziku Python pocinje sa \"tarabom\"\n",
    "a = 2       # celobrojni tip \n",
    "b = 'CFD_kurs'   # string\n",
    "c = 5.0     # realni broj, tip float"
   ]
  },
  {
   "cell_type": "markdown",
   "id": "dc667e23-9bc1-4e77-91d8-f1c442cbe61f",
   "metadata": {},
   "source": [
    "Информације о типу промењиве се могу сазнати једноставном командом type, или много детаљније са "
   ]
  },
  {
   "cell_type": "code",
   "execution_count": null,
   "id": "5b32050c-1e82-4d61-8ac9-f6965140e88d",
   "metadata": {},
   "outputs": [],
   "source": [
    "a?"
   ]
  },
  {
   "cell_type": "code",
   "execution_count": null,
   "id": "6b79c63e-cdf1-43ac-928f-ec6173c597d7",
   "metadata": {},
   "outputs": [],
   "source": [
    "b?"
   ]
  },
  {
   "cell_type": "code",
   "execution_count": null,
   "id": "764f5f13-8d87-497c-bb62-61ee930a38c5",
   "metadata": {},
   "outputs": [],
   "source": [
    "c?"
   ]
  },
  {
   "cell_type": "markdown",
   "id": "e830b7d1-d4ad-4743-bb25-4d8f7a5d54cd",
   "metadata": {},
   "source": [
    "Дељењем/множењем податка интиџер и флоут (или обрнуто) добија се промењива типа флоут."
   ]
  },
  {
   "cell_type": "code",
   "execution_count": null,
   "id": "f3fc9623-40c0-481b-b075-d2244a1bddb1",
   "metadata": {},
   "outputs": [],
   "source": [
    "print(c/a)\n",
    "print(c*a)"
   ]
  },
  {
   "cell_type": "markdown",
   "id": "b7eb1ba8-816f-4c4f-a980-ee6fd0134cb6",
   "metadata": {},
   "source": [
    "Стринг је тип податка кога чини одређени број карактера. У примеру, стринг има укупно oсам карактера. У Пајтону, слично као и програмским језицима C и C++, бројање креће од нуле, па је први карактер (\"C\") у стрингу b[0]"
   ]
  },
  {
   "cell_type": "code",
   "execution_count": null,
   "id": "a8be948b-4362-4337-be33-a00377b59135",
   "metadata": {},
   "outputs": [],
   "source": [
    "print(b[0])"
   ]
  },
  {
   "cell_type": "markdown",
   "id": "f55ec53f-14f0-4011-bca1-138fe34799e7",
   "metadata": {},
   "source": [
    "Дужина стринга (број карактера) се може сазнати командом len."
   ]
  },
  {
   "cell_type": "code",
   "execution_count": null,
   "id": "79bfb1cd-9d97-49db-92b8-8bfd162aad33",
   "metadata": {},
   "outputs": [],
   "source": [
    "print(len(b))"
   ]
  },
  {
   "cell_type": "markdown",
   "id": "bb5e87c1-b498-431f-a48a-4bbac550737c",
   "metadata": {},
   "source": [
    "Ради што боље читљивости програмског кода, Пајтон не користи посебне ознаке, тј. заграде како би се означио одговарајући сегмент програмског кода, већ се за то користи индентација, односно увлачење реда. На пример синтакса за петљу у програмском језику С би била\n",
    "```C++\n",
    "for (i=0; i<strlen(b); i++) \n",
    "{ \n",
    "  // razne komande u okviru ovog bloka\n",
    "  printf(\"%s\\n\", b[i]);\n",
    "}\n",
    "```\n",
    "док би у Пајтону то било"
   ]
  },
  {
   "cell_type": "code",
   "execution_count": null,
   "id": "0cc2c860-49cd-4395-984e-6a3c4965b580",
   "metadata": {},
   "outputs": [],
   "source": [
    "for i in range(len(b)):\n",
    "    print (b[i])"
   ]
  },
  {
   "cell_type": "markdown",
   "id": "6de3b574-84a3-426d-9c34-5e82976ad087",
   "metadata": {},
   "source": [
    "Петља у оквиру петље:"
   ]
  },
  {
   "cell_type": "code",
   "execution_count": null,
   "id": "a4ef21fd-96f4-4297-9f85-fb4c34ae8f33",
   "metadata": {},
   "outputs": [],
   "source": [
    "for i in range(3):\n",
    "    for j in range(3):\n",
    "        print (i,j)\n",
    "    print (\"Oвај ред се извршава само у оквиру 'i' петље (i = %d)\" % i)"
   ]
  },
  {
   "cell_type": "markdown",
   "id": "cfb4cf6a-074a-4024-a17a-7a1f7c7cbc12",
   "metadata": {},
   "source": [
    "За дефинисање одговарајућих функција се користи команда ```def```. Пример једне просте функције која даје количник збира и разлике два унета броја"
   ]
  },
  {
   "cell_type": "code",
   "execution_count": null,
   "id": "834dd292-762a-4c54-94ab-2c0465861838",
   "metadata": {},
   "outputs": [],
   "source": [
    "def operator(x,y):\n",
    "    return (x+y)/(x-y)\n",
    "\n",
    "m = 50.4\n",
    "n = 11\n",
    "print (operator(m,n))"
   ]
  },
  {
   "cell_type": "markdown",
   "id": "b5d1d954-6964-4fb3-a0df-9cbb95c359c0",
   "metadata": {},
   "source": [
    "<br>\n",
    "<h3><b>Листе и низови</b></h3>\n",
    "Листу чини уређени скуп карактера дефинисаних у одређеном редоследу. Ти карактери могу бити само бројеви, али могу бити и бројеви и стрингови. Листа се дефинише на следећи начин"
   ]
  },
  {
   "cell_type": "code",
   "execution_count": null,
   "id": "d1dca8d2-4ea6-4fb1-8d29-67ca88171135",
   "metadata": {},
   "outputs": [],
   "source": [
    "x = [1,2,3, 'Mеханика флуида']\n",
    "print (x[3])"
   ]
  },
  {
   "cell_type": "markdown",
   "id": "4a057562-166a-4a5f-a9fd-6279895b3199",
   "metadata": {},
   "source": [
    "Додавање елемената листи се може вршити на неколико начина. На пример, ако желимо да додамо елемент листе на њен крај користимо команду ```apppend```"
   ]
  },
  {
   "cell_type": "code",
   "execution_count": null,
   "id": "4d5f637a-5daa-4c7b-8231-4a572835598f",
   "metadata": {},
   "outputs": [],
   "source": [
    "x.append(10.)\n",
    "x"
   ]
  },
  {
   "cell_type": "markdown",
   "id": "f603d091-280b-481e-a3cf-0a5d03abb479",
   "metadata": {},
   "source": [
    "За убацивање елемента на одређену позицију у листи користи се команда ```insert```, где први **цели број** (тип интиџер) означава место у листи - индекс на који желимо да убацимо елемент, који се потом даје иза тог индекса. На пример ако желимо да додамо на место другог елемента листе (индекс 1)  "
   ]
  },
  {
   "cell_type": "code",
   "execution_count": null,
   "id": "ca51a68f-ff19-4b7f-a3b8-7986fd058d30",
   "metadata": {},
   "outputs": [],
   "source": [
    "x.insert(1, 55.356)\n",
    "x"
   ]
  },
  {
   "cell_type": "markdown",
   "id": "01e60ff2-23ca-4ab4-bb4f-519303607a80",
   "metadata": {},
   "source": [
    "Две листе се могу надовезати једна на другу са оператором \"+\". Дакле, овај оператор у контексту листа не означава сумирање чланова листе!"
   ]
  },
  {
   "cell_type": "code",
   "execution_count": null,
   "id": "5a31615d-c63b-4978-9811-4e949390a154",
   "metadata": {},
   "outputs": [],
   "source": [
    "%clear\n",
    "x = [1,2,3]\n",
    "y = [4, 5, 6, 'CFD']\n",
    "x + y"
   ]
  },
  {
   "cell_type": "markdown",
   "id": "f89dbeb5-7ce3-4a03-8511-e89da8426d19",
   "metadata": {},
   "source": [
    "Као што је већ речено на почетку, у оквиру Пајтона постоје многобројне библиотеке. У контексту будућих програмских кодова, користићемо махом три библиотеке и то су:\n",
    "* ```numpy```, за обиљем алата за манипулацију над низовима разних димензија, за решавање проблема из линеарне алгебре, уграђеним математичким функцијама, и много тога другог;\n",
    "* ```matplotlib``` за визуелизацију резултата (дијаграми, контуре, анимације);\n",
    "* ```scipy``` скраћеница од \"scientific python\", oбиље имлементираних алгоритама за готово све нумеричке поступке у математици (оптимизација, интеграција, интерполација, линеарна алгебра, решавање обичних диференцијалних једначина, итд.) \n",
    "\n",
    "Иза сваког од алгоритама у наведеним модулима обично стоје компајлирани програмски кодови написани у Фортрану или Цеу, тј. коришћење библиотека LAPACK (https://netlib.org/lapack/) или GNU GSL (https://www.gnu.org/software/gsl/), те се стога и брзо извршавају. Да би та брзина била оптимална, неопходна је и одговарајућа синтакса приликом операција над низовима у оквиру пакета ```numpy```. О томе нешто касније. Прво ћемо се упознати са основним командама у оквиру тог модула. \n",
    "\n",
    "## **Библиотека ```numpy```**\n",
    "Да би се користиле библиотеке, неопходно их је учитати. Неко неписано правило за numpy је да се то обавља са следећом синтаксом"
   ]
  },
  {
   "cell_type": "code",
   "execution_count": null,
   "id": "76d71873-8682-470a-bbb0-631feaabe316",
   "metadata": {},
   "outputs": [],
   "source": [
    "import numpy as np"
   ]
  },
  {
   "cell_type": "markdown",
   "id": "f5005f00-7e22-42c3-95b7-c34429bf98c1",
   "metadata": {},
   "source": [
    "Ако желимо да користимо функције из библиотеке, онда ћемо прво написати њену скраћеницу коју смо дефинисали као \"np\", потом ставити тачку, и онда команду. Тако на пример за генерисање низа од 0 до 10 (први и последњи елемент) са 10 чланова можемо користити следећу синтаксу\n",
    "```python\n",
    "np.linspace(први члан, последњи члан, укупан број чланова)\n",
    "```"
   ]
  },
  {
   "cell_type": "code",
   "execution_count": null,
   "id": "fcdd18b9-ea04-46cb-a912-4ad2e9182f70",
   "metadata": {},
   "outputs": [],
   "source": [
    "t = np.linspace(0, 10, 10)\n",
    "t"
   ]
  },
  {
   "cell_type": "markdown",
   "id": "d084f627-6d6c-4b70-bb10-f450b0308c64",
   "metadata": {},
   "source": [
    "Дефинишимо сада један једнодимензионалан низ са пет чланова, са командом np.array"
   ]
  },
  {
   "cell_type": "markdown",
   "id": "62f4e0f7-852f-4e74-83fe-8d78077c9c67",
   "metadata": {},
   "source": [
    "### **Индексирање и сецирање**"
   ]
  },
  {
   "cell_type": "code",
   "execution_count": null,
   "id": "3abf4448-1c50-4ab7-a9c0-3fb12f21ce44",
   "metadata": {},
   "outputs": [],
   "source": [
    "%clear\n",
    "a = np.array([1,2,3,4,5])\n",
    "a"
   ]
  },
  {
   "cell_type": "markdown",
   "id": "bd202cd2-e957-4057-814d-940014471813",
   "metadata": {},
   "source": [
    "Слично као и код листа, индекси низа крећу од нуле, тако да је први елемент низа ```а[0]```, а последњи ```a[4]```."
   ]
  },
  {
   "cell_type": "code",
   "execution_count": null,
   "id": "c243ea56-e232-40f8-bd44-66181aa95c9e",
   "metadata": {},
   "outputs": [],
   "source": [
    "print (a[4])"
   ]
  },
  {
   "cell_type": "markdown",
   "id": "7b43c684-2071-478b-b522-ad07df9217e9",
   "metadata": {},
   "source": [
    "Поред индексирања спреда, са леве стране низу можемо приступати и са његовог краја, са његове десне стране. Први индекс са његове десне стране је -1."
   ]
  },
  {
   "cell_type": "code",
   "execution_count": null,
   "id": "754ff988-77f3-4fc1-bf52-6fdfb51c725c",
   "metadata": {},
   "outputs": [],
   "source": [
    "a[-1]"
   ]
  },
  {
   "cell_type": "markdown",
   "id": "2558b78c-e4d2-4e4a-af98-94e6f3133f0b",
   "metadata": {},
   "source": [
    "следећи -2, -3, итд. Последњи индекс је $-N$, где је $N$ број чланова низа!"
   ]
  },
  {
   "cell_type": "markdown",
   "id": "e09ebdb1-c7ca-44d7-a377-79ecba89d7af",
   "metadata": {},
   "source": [
    "Креирајмо сада једнодимензијска низ од 50 чланова са командом ```np.arange```. Синтакса команде је\n",
    "```python\n",
    "np.arange(вредност првог елемента, последњи елемент, корак)\n",
    "```\n",
    "Да ли ће вредност последњег елемента бити у низу зависи од вредности почетног елемента и вредности корака. "
   ]
  },
  {
   "cell_type": "code",
   "execution_count": null,
   "id": "80e2cd42-4abf-41df-ae8f-a9dc791a54fa",
   "metadata": {},
   "outputs": [],
   "source": [
    "import numpy as np\n",
    "x = np.arange(0, 50, 1)\n",
    "print (\"x =\", x)\n",
    "print (len(x))"
   ]
  },
  {
   "cell_type": "markdown",
   "id": "fa8cb186-3f62-4f28-828e-9da06222fc1c",
   "metadata": {},
   "source": [
    "Ако желимо из овог низа да издвојимо нови низ у коме ће се налазити чланови од позиције број 10 (бројање позиције креће од нуле, тако да је то једанаести члан низа, број 10) па до позиције 20, тј. двадесетпрвог члана низа користимо следећу синтаксу (\"сецирање низа\")"
   ]
  },
  {
   "cell_type": "code",
   "execution_count": null,
   "id": "8b6eb94c-1cda-4a16-a629-88d7fb56b76e",
   "metadata": {},
   "outputs": [],
   "source": [
    "x[10:21]"
   ]
  },
  {
   "cell_type": "markdown",
   "id": "0de640eb-e983-4c3e-837b-b9f332206673",
   "metadata": {},
   "source": [
    "Дакле, елемент низа који одговара другом индексу није укључен у нови низ, већ вредност претходног елемента. Математички записано $ \\mathrm{ind}\\in[a, b)$, где $а$ и $b$ одговарају првом и последњем индексу при \"сецирању\" оригиналног низа. Допунска синтакса дата у следећем реду би значила да новонастали низ прво настаје \"сецирањем\", па потом узимамо сваки трећи елемент из тог низа."
   ]
  },
  {
   "cell_type": "code",
   "execution_count": null,
   "id": "75a5b736-f371-4192-a038-3d8605f85a20",
   "metadata": {},
   "outputs": [],
   "source": [
    "x[10:21:3]"
   ]
  },
  {
   "cell_type": "markdown",
   "id": "98cf8d29-a3fc-4037-afcf-df8f601fea5d",
   "metadata": {},
   "source": [
    "Ако желимо да од постојећег низа направимо нови низ у коме би био сваки 5 члан почетног низа, команда би била"
   ]
  },
  {
   "cell_type": "code",
   "execution_count": null,
   "id": "913a5eaa-bb1d-4ef4-ab34-4bfe33548520",
   "metadata": {},
   "outputs": [],
   "source": [
    "x[::5]"
   ]
  },
  {
   "cell_type": "markdown",
   "id": "e33531f7-9983-4e36-980e-c9b0fe9c25d0",
   "metadata": {},
   "source": [
    "Дакле, у овој синтакси нисмо ставили индекс од кога ћемо започети и индекс на коме ћемо завршити сецирање. Тада се подразумева да укључујемо све чланове низа, односно да први индекс одговара првом (нултом) члану низа и да укључујемо последњи члан низа. Сваки пети члан, али низу приступамо са десне стране"
   ]
  },
  {
   "cell_type": "code",
   "execution_count": null,
   "id": "3ab768e2-d2cb-4454-b2fe-c1dfc2223e32",
   "metadata": {},
   "outputs": [],
   "source": [
    "x[::-5]"
   ]
  },
  {
   "cell_type": "markdown",
   "id": "727df669-9abb-4383-a01b-65d68b763698",
   "metadata": {},
   "source": [
    "У поступку сецирања можемо користити и негативне индексе, што значи да низу приступамо са десне стране. На пример, ако желимо да издвојимо последњих пет чланова низа "
   ]
  },
  {
   "cell_type": "code",
   "execution_count": null,
   "id": "09b317f9-feef-44f8-94c9-722a7022f673",
   "metadata": {},
   "outputs": [],
   "source": [
    "x[-5:]"
   ]
  },
  {
   "cell_type": "markdown",
   "id": "eadb0500-04eb-4b14-b7dc-a01f9193b2ed",
   "metadata": {},
   "source": [
    "Креирање дводимензијског низа (можемо схватити као матрицу са врстама и колонама):"
   ]
  },
  {
   "cell_type": "code",
   "execution_count": null,
   "id": "9c87f232-290e-4751-a334-a633478f34b3",
   "metadata": {},
   "outputs": [],
   "source": [
    "A = np.array([[1,2,3],\n",
    "             [4,5,6],\n",
    "             [7,8,9]])\n",
    "A"
   ]
  },
  {
   "cell_type": "markdown",
   "id": "7b7d2374-84cb-4522-ad7b-31bd6455772a",
   "metadata": {},
   "source": [
    "До исте матрице смо могли доћи и на елегантнији начин"
   ]
  },
  {
   "cell_type": "code",
   "execution_count": null,
   "id": "c8419290-ce06-4a1d-aa65-b06e3ea82dbd",
   "metadata": {},
   "outputs": [],
   "source": [
    "%clear\n",
    "A = np.arange(1,13,1).reshape(3,4)\n",
    "A"
   ]
  },
  {
   "cell_type": "markdown",
   "id": "068705f0-95d1-4706-9ad3-a4aee57cffe2",
   "metadata": {},
   "source": [
    "Индексирање овог низа се врши са два индекса, при чему први индекс одговара врсти, а други колони. Елементима се може приступати са ```A[i][j]``` или пак са ```A[i,j]```.  Треба имати у виду да оба индекса почињу од нуле, па је тако"
   ]
  },
  {
   "cell_type": "code",
   "execution_count": null,
   "id": "c367b2fc-6bce-4070-b68c-2b2047c4b3ac",
   "metadata": {},
   "outputs": [],
   "source": [
    "A[2,2]"
   ]
  },
  {
   "cell_type": "markdown",
   "id": "29200bd8-6455-409a-9c38-2bf85f54d0c5",
   "metadata": {},
   "source": [
    "Суштина сецирања дводименијског низа је иста као и код једнодимензијског низа, с том разликом што се сецирање може обављати по оба индекса, по врстама и по колонама. У numpy терминологији говори се о осама низа. Тако ```axis=0``` означава осу која одговара врстама, а ```axis=1``` колонама. Рецимо да желимо да прикакажемо прву, тј. нулту колону. Команда је"
   ]
  },
  {
   "cell_type": "code",
   "execution_count": null,
   "id": "fccd3fb3-db16-4f5d-9811-431d4757fd6c",
   "metadata": {},
   "outputs": [],
   "source": [
    "# Prva, to jest nulta kolona\n",
    "A[:, 0]"
   ]
  },
  {
   "cell_type": "markdown",
   "id": "ff99ff50-fceb-4d7c-952e-17acda79ca19",
   "metadata": {},
   "source": [
    "Ако желимо да направимо матрицу $2\\times2$ почев од елемента (0,0)"
   ]
  },
  {
   "cell_type": "code",
   "execution_count": null,
   "id": "5db11ddc-59ef-43f4-8ace-8045175c805e",
   "metadata": {},
   "outputs": [],
   "source": [
    "A[0:2, 0:2]"
   ]
  },
  {
   "cell_type": "markdown",
   "id": "a521a19c-4fd5-43f3-88b2-e758978cd46a",
   "metadata": {},
   "source": [
    "До истог резултата би дошли са ```A[:2, :2]``` (подразумева се да крећемо од индекса 2)."
   ]
  },
  {
   "cell_type": "markdown",
   "id": "05690b0d-36e3-4e53-a3e8-1a924f358860",
   "metadata": {},
   "source": [
    "### **Аритметичке операције са низовима**"
   ]
  },
  {
   "cell_type": "markdown",
   "id": "ea966fcb-3145-44fc-a278-499c7181654e",
   "metadata": {},
   "source": [
    "Приликом аритметичких операција са низовима **неопходни предуслов** је да низови буду истих димензија, и онда се при томе врше аритметичке операције над члановима са истим индексима. Ово је последица векторизације низовa у оквиру библиотеке нумпај, и онда нема потребе користити фор петље. На пример"
   ]
  },
  {
   "cell_type": "code",
   "execution_count": null,
   "id": "04b7d03e-4dd3-4f2f-853a-70a0626e07a8",
   "metadata": {},
   "outputs": [],
   "source": [
    "%clear\n",
    "import numpy as np\n",
    "x = np.arange(1,10, 1)\n",
    "y = np.arange(11, 20., 1)\n",
    "print (\"x = \", x)\n",
    "print (\"y = \", y)"
   ]
  },
  {
   "cell_type": "code",
   "execution_count": null,
   "id": "a17a067f-1edc-40c1-a3e2-71a482091097",
   "metadata": {},
   "outputs": [],
   "source": [
    "x*y"
   ]
  },
  {
   "cell_type": "code",
   "execution_count": null,
   "id": "cdbd138b-ca25-4122-93bf-83ba3f4f5716",
   "metadata": {},
   "outputs": [],
   "source": [
    "Формирајмо сада низове x и y на следећи начин"
   ]
  },
  {
   "cell_type": "code",
   "execution_count": null,
   "id": "938c9052-41f6-4e90-a91c-67017bc1a2f0",
   "metadata": {},
   "outputs": [],
   "source": [
    "%clear\n",
    "import numpy as np\n",
    "x = np.linspace(0, 4*np.pi, 400)\n",
    "y = np.sin(x)*np.cos(x)"
   ]
  },
  {
   "cell_type": "markdown",
   "id": "b7ec116c-30df-4267-80e8-6654c235abaa",
   "metadata": {},
   "source": [
    "Прикажимо сада зависност $y=y(x)$ графички, а такође и извод те функције! За приказивање графика користимо библиотеку ```matplotlib```, и у оквиру ње модул ```pyplot```. Извод функције ћемо одредити помоћу функције ```np.gradient```. Одређивање извода у овој функцији је методом коначних разлика другог реда тачности (централне разлике), док се у првој и последњој тачки одређује коначним разликама унапред, тј. уназад другог реда тачности. "
   ]
  },
  {
   "cell_type": "code",
   "execution_count": null,
   "id": "a2dc6d7f-d70b-48c6-9b49-7fd861680209",
   "metadata": {},
   "outputs": [],
   "source": [
    "import matplotlib.pyplot as plt\n",
    "plt.plot(x, y, label='Функција')\n",
    "plt.plot(x, np.gradient(y,x), label='Извод функције')\n",
    "plt.grid(True, linestyle='dashed')\n",
    "plt.legend()"
   ]
  },
  {
   "cell_type": "markdown",
   "id": "e1275c81-6a56-49b0-ae01-399d06e0b1ab",
   "metadata": {},
   "source": [
    "Тестирајмо ефекат броја чланова низова $(x,y)$ на тачност извода (као и сам приказ функције)."
   ]
  },
  {
   "cell_type": "markdown",
   "id": "ee35a814-d624-477e-9a7b-255d2505ad92",
   "metadata": {},
   "source": [
    "\n",
    "<hr>\n",
    "\n",
    "**Домаћи задатак.** Полазећи од низа $y=y(x)$ извршити његово нумеричко диференцирање (за познато и константно $\\Delta x$) на начин имплементиран у функцији ```np.gradient``` и упоредити добијене резултате!"
   ]
  }
 ],
 "metadata": {
  "kernelspec": {
   "display_name": "Python 3 (ipykernel)",
   "language": "python",
   "name": "python3"
  },
  "language_info": {
   "codemirror_mode": {
    "name": "ipython",
    "version": 3
   },
   "file_extension": ".py",
   "mimetype": "text/x-python",
   "name": "python",
   "nbconvert_exporter": "python",
   "pygments_lexer": "ipython3",
   "version": "3.8.16"
  },
  "toc-autonumbering": true,
  "toc-showcode": true,
  "toc-showmarkdowntxt": true,
  "toc-showtags": true
 },
 "nbformat": 4,
 "nbformat_minor": 5
}
