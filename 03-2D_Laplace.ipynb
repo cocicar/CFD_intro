{
 "cells": [
  {
   "cell_type": "markdown",
   "id": "21531393-4f24-4fb2-91c8-381c47e5cfa1",
   "metadata": {},
   "source": [
    "# **Лапласова парцијална диференцијална једначина**\n",
    "\n",
    "Лапласова парцијална диференцијална једначина се среће у многим областима физике (механика флуида и провођење топлоте, еластичност, електротехника, електромагнетика). Ми ћемо разматрати дводимензијски случај, када нека физичка величина $u$ зависи од две независне промењиве (координате) $x$ и $y$, то јест $u = u(x,y)$. Понашање те величине у домену $\\mathfrak{D}$ је описано Лапласовом парцијалном диференцијалном једначином\n",
    "\\begin{equation}\n",
    "  \\nabla^2 u = 0 \\qquad \\Leftrightarrow \\qquad \\frac{\\partial^2 u}{\\partial x^2} + \\frac{\\partial^2 u}{\\partial y^2} = 0\n",
    "  \\label{eq:1}\\tag{1}\n",
    "\\end{equation}\n",
    "\n",
    "Решење парцијалне диференцијалне једначине није могуће без граничних услова који владају на граници домена у коме се једначина решава. Ти гранични услови морају бити унапред познати и дефисани, што зависи од физике проблема који је описан једначином $\\eqref{eq:1}$. Ради једноставности, а при томе не губећи много на општости, разматраћемо случај да је домен $\\mathfrak{D}$ облика квадрата странице $a = 1$. Dимензије, тј. јединице дужине нису од значаја; можемо сматрати да је једначина $\\eqref{eq:1}$ написана у бездимензијском облику. \n",
    "\n",
    "Дискретизовани облик једначине $\\eqref{eq:1}$ методом коначних разлика тачности другог реда је \n",
    "\n",
    "\\begin{equation}\n",
    "\\frac{u_{i+1,j} - 2 u_{i,j} + u_{i-1,j}}{\\Delta x^2} + \\frac{u_{i,j+1} - 2 u_{i,j} + u_{i,j-1}}{\\Delta y^2} = 0\n",
    "\\end{equation}\n",
    "\n",
    "Множењем једначине са $\\Delta x$, увођењем $\\beta = \\Delta x/\\Delta y$ и $\\alpha = -2(1 + \\beta^2)$, и груписањем чланова добија се следећа алгебарска једначина\n",
    "\n",
    "\\begin{equation}\n",
    "u_{i+1,j}  + u_{i-1,j} + \\alpha \\,u_{i,j} + \\beta^2 u_{i, j-1} + \\beta^2 u_{i,j+1} = 0\n",
    "\\label{eq:2}\\tag{2}\n",
    "\\end{equation}\n",
    "\n",
    "У случају да је нумеричка мрежа униформна, $\\Delta y = \\Delta x$ (што је природно за прорачунски домен облика квадрата), једначина $\\eqref{eq:2}$ се своди на \n",
    "\n",
    "\\begin{equation}\n",
    "u_{i+1,j}  + u_{i-1,j} -4 \\,u_{i,j} + u_{i, j-1} + u_{i,j+1} = 0\n",
    "\\end{equation}\n",
    "\n",
    "Програмски код који решава Лапласову једначину са Дириклеовим граничним условима (допунити причу!)"
   ]
  },
  {
   "cell_type": "code",
   "execution_count": null,
   "id": "08afb79e-5c5f-4d50-8ba8-4ac482acb2e0",
   "metadata": {},
   "outputs": [],
   "source": [
    "import numpy as np\n",
    "from matplotlib import cm\n",
    "import matplotlib.pyplot as plt\n",
    "\n",
    "#  Stranica kvadratа\n",
    "a = 1\n",
    "\n",
    "\n",
    "# Prostorna diskretizacija;\n",
    "(Nx, Ny) = (41, 41)\n",
    "N_tacaka = Nx*Ny\n",
    "\n",
    "# Indeks poslednjeg clana niza (prvi je nula)\n",
    "(nx, ny) = (Nx-1, Ny-1)\n",
    "(dx, dy) = (a/nx, a/ny)\n",
    "\n",
    "\n",
    "x = np.linspace(0, a, Nx)\n",
    "y = np.linspace(0, a, Ny)\n",
    "\n",
    "## ----- Polazna pretpostavka za resenje:\n",
    "u_old = np.zeros(shape = (Ny, Nx))  \n",
    "\n",
    "# ----------- Granicni uslovi ---------------------\n",
    "for i in range(Ny):\n",
    "    u_old[i,0] = 1\n",
    "    u_old[i,nx] = 1\n",
    "for j in range(Nx):\n",
    "    u_old[0, j] = 0\n",
    "    u_old[ny,j] = 0\n",
    "# -------------------------------------------------\n",
    "\n",
    "u_new = u_old.copy()\n",
    "#-------------------------------------------\n",
    "\n",
    "\n",
    "beta = dx/dy\n",
    "alpha = 2*(1 + beta**2)\n",
    "n = 1\n",
    "while(True):\n",
    "    u_new[1:-1, 1:-1] = 1/alpha*(u_old[2:, 1:-1] + u_old[0:-2, 1:-1] + beta**2*(u_old[1:-1, 2:] + u_old[1:-1,0:-2]))\n",
    "    error = u_new - u_old\n",
    "    if (abs(np.max(error) or abs(np.min(error))) < 1e-6):\n",
    "        print (\"Број итерација за достизање стационарног решења: n = \", n)\n",
    "        break\n",
    "    u_old = u_new.copy()\n",
    "    n = n + 1\n",
    "        \n",
    "X, Y = np.meshgrid(x, y)\n",
    "plt.figure(figsize=(6,8), dpi=100)\n",
    "plt.title(\"Контуре $u=\\mathrm{const}$ у равни\", size=14)\n",
    "plt.contourf(X, Y, u_new, levels=32, cmap=\"jet\")\n",
    "cbar = plt.colorbar(orientation='horizontal', shrink = 0.75, pad = 0.1)\n",
    "cbar.set_label('$u$', size = 12)\n",
    "cbar.ax.tick_params(labelsize=8)"
   ]
  },
  {
   "cell_type": "markdown",
   "id": "42876511-2eec-4ae8-8700-45e41c61a5bc",
   "metadata": {},
   "source": [
    "Ако желимо да прикажемо $u=u(x,y)$ као површ у простору:"
   ]
  },
  {
   "cell_type": "code",
   "execution_count": null,
   "id": "505e063c-1668-4b60-83d6-6a4134e9deac",
   "metadata": {},
   "outputs": [],
   "source": [
    "fig, ax = plt.subplots(figsize=(8,8), dpi=100, subplot_kw={\"projection\": \"3d\"})\n",
    "surf = ax.plot_surface(X, Y, u_new, cmap=cm.jet, linewidth=0, antialiased=True)\n",
    "fig.colorbar(surf, shrink=0.5, aspect=15, label='$u$ [-]')\n",
    "plt.title(\"$u=u(x,y)$\", fontsize=12)\n",
    "plt.xlabel('$x$', fontsize = 10)\n",
    "plt.ylabel('$y$', fontsize = 10)"
   ]
  },
  {
   "cell_type": "markdown",
   "id": "436c9f70-c6e7-4b0a-9cb1-cd49fb0504ae",
   "metadata": {},
   "source": [
    "Профил $u$ дуж вертикале $x=0.5$, то јест дијаграм $u(y)|_{x=0.5}$"
   ]
  },
  {
   "cell_type": "code",
   "execution_count": null,
   "id": "1d408692-3e03-4c4a-b86c-20eb7d9d3d24",
   "metadata": {},
   "outputs": [],
   "source": [
    "k = int(ny/2)\n",
    "plt.title(\"Профил $u(0.5; y)$\", size=14)\n",
    "plt.grid(True, linestyle='dashed')\n",
    "plt.xlabel(\"$y$\")\n",
    "plt.ylabel(\"$u$\")\n",
    "plt.plot(Y[:, k], u_new[:, k], lw=2.5)"
   ]
  }
 ],
 "metadata": {
  "kernelspec": {
   "display_name": "Python 3 (ipykernel)",
   "language": "python",
   "name": "python3"
  },
  "language_info": {
   "codemirror_mode": {
    "name": "ipython",
    "version": 3
   },
   "file_extension": ".py",
   "mimetype": "text/x-python",
   "name": "python",
   "nbconvert_exporter": "python",
   "pygments_lexer": "ipython3",
   "version": "3.8.16"
  }
 },
 "nbformat": 4,
 "nbformat_minor": 5
}
