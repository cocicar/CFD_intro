{
 "cells": [
  {
   "cell_type": "markdown",
   "id": "e5da0444-1de4-4505-9e9d-72d3467b6f14",
   "metadata": {},
   "source": [
    "# **Нестационарно Куетово струјање између паралелних плоча**\n",
    "\n",
    "Разматра се проблем нестационарног струјања између паралелних плоча. Флуид је до тренутка $t=0$ био у стању мировања. Тренутно, горња плоча почиње да се креће константном брзином $U_0$ у хоризонталном правцу. Струјање је у сваком тренутку времена потпуно развијено, те је проблем описан са следећом диференцијалном једначином, са придруженим почетним и граничним условима.\n",
    "\\begin{equation}\n",
    "\\frac{\\partial u}{\\partial t} = \\nu \\frac{\\partial^2 u}{\\partial y^2}, \\quad u = u(t,y); \\qquad u(0,y) = \\left\\{\\begin{array}{ll} u = 0, & 0\\leqslant y<H \\\\ u = U_0, & y=H \\end{array}\\right.;\\qquad u(t,0) = 0, \\,\\,\\, u(t,H) = U_0\n",
    "\\end{equation}"
   ]
  },
  {
   "cell_type": "markdown",
   "id": "3c30da1d-af17-45fe-8a85-5046e99b7594",
   "metadata": {},
   "source": [
    "Aко уведемо бездимензијске величине $u^{\\ast} = u/U_0$, $y^{\\ast} = y/H$ и $t^{\\ast} = t/T$, где је $T = H^2/\nu$ карактеристична временскa размерa, и заменимо их у полазну једначину, добијамо диференцијалну једначину, као и припадајуће почетне и граничне услове облика\n",
    "\n",
    "\\begin{equation}\n",
    "\\frac{\\partial u^\\ast}{\\partial t^\\ast} = \\frac{\\partial^2 u^\\ast}{\\partial y^{\\ast 2}}, \\quad u^\\ast = u^\\ast(t^\\ast,y^\\ast); \\qquad u^\\ast(0,y^\\ast) = \\left\\{\\begin{array}{ll} u^\\ast = 0, & 0\\leqslant y^\\ast<1 \\\\ u^\\ast = 1, & y^\\ast=1 \\end{array}\\right.;\\qquad u^\\ast(t^\\ast,0) = 0, \\,\\,\\, u^\\ast(t^\\ast,1) = 1\n",
    "\\end{equation}\n",
    "\n",
    "Ако сада изоставимо горњи индекс * којим означава бездимензијску величину, дискретизовани облик једначине методом коначних разлика FCTS поступком (први ред тачности у времену) је\n",
    "\n",
    "\\begin{equation}\n",
    " \\frac{u^{n+1}_i - u^n_i}{\\Delta t} = \\frac{u^n_{i+1} - 2 u_i^n + u_{i-1}^{n}}{\\Delta y^2} \\qquad \\Rightarrow \\qquad u^{n+1}_i = u^n_i + \\frac{\\Delta t}{\\Delta y^2}\\left(u^n_{i+1} - 2 u_i^n + u_{i-1}^{n}\\right)\n",
    "\\end{equation}"
   ]
  },
  {
   "cell_type": "markdown",
   "id": "b7340ae7-3bf3-4fb8-9ce5-63fe8d1eaa54",
   "metadata": {},
   "source": [
    "**Услов стабилности** овог нумеричког поступка јe: $\\Delta t/\\Delta y^2 \\leqslant 0.5$! Програмски код којим се решава проблем:"
   ]
  },
  {
   "cell_type": "code",
   "execution_count": null,
   "id": "48831d9b-5542-43a1-8df5-9d636745b34b",
   "metadata": {},
   "outputs": [],
   "source": [
    "import numpy as np\n",
    "import matplotlib.pyplot as plt\n",
    "\n",
    "Ny = 41\n",
    "y = np.linspace(0, 1, Ny)\n",
    "dy = 1./(Ny-1)\n",
    "k = 0.4   # ovaj broj mora biti manji od 0.5!!\n",
    "dt = k * dy**2\n",
    "print (\"Временски корак је dt = %.6e\" % dt)\n",
    "Nt = 12  # broj vremenskih koraka\n",
    "\n",
    "# Pocetni uslov\n",
    "u = np.zeros(Ny)\n",
    "u[Ny-1] = 1.0  # zamena poslednjeg clana sa 1.\n",
    "\n",
    "n = 0\n",
    "Nt = 1000. # Broj vremenskih koraka\n",
    "\n",
    "\n",
    "float_formatter = \"{:.3f}\".format\n",
    "np.set_printoptions(formatter={'float_kind':float_formatter})\n",
    "plt.title(\"Профили брзине у различитим временским тренуцима\")\n",
    "plt.grid(True, linestyle='dotted')\n",
    "plt.xlabel('u [-]')\n",
    "plt.ylabel('y [-]')\n",
    "\n",
    "while(n <= Nt):\n",
    "    u[1:-1] = u[1:-1] + k*(u[2:] - 2*u[1:-1] + u[:-2])\n",
    "    #print(\"t = %f\" % (n*dt), \":\\t u = \", u) \n",
    "    if (n%100 == 0):\n",
    "        plt.plot(u, y, label=\"%f\" % (dt*n))\n",
    "        plt.legend()\n",
    "    n = n + 1 "
   ]
  }
 ],
 "metadata": {
  "kernelspec": {
   "display_name": "Python 3 (ipykernel)",
   "language": "python",
   "name": "python3"
  },
  "language_info": {
   "codemirror_mode": {
    "name": "ipython",
    "version": 3
   },
   "file_extension": ".py",
   "mimetype": "text/x-python",
   "name": "python",
   "nbconvert_exporter": "python",
   "pygments_lexer": "ipython3",
   "version": "3.8.16"
  },
  "toc-autonumbering": false
 },
 "nbformat": 4,
 "nbformat_minor": 5
}
